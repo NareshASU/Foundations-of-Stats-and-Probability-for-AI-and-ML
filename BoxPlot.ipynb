{
  "nbformat": 4,
  "nbformat_minor": 0,
  "metadata": {
    "colab": {
      "provenance": [],
      "include_colab_link": true
    },
    "kernelspec": {
      "name": "python3",
      "display_name": "Python 3"
    },
    "language_info": {
      "name": "python"
    }
  },
  "cells": [
    {
      "cell_type": "markdown",
      "metadata": {
        "id": "view-in-github",
        "colab_type": "text"
      },
      "source": [
        "<a href=\"https://colab.research.google.com/github/NareshASU/Foundations-of-Stats-and-Probability-for-AI-and-ML/blob/main/BoxPlot.ipynb\" target=\"_parent\"><img src=\"https://colab.research.google.com/assets/colab-badge.svg\" alt=\"Open In Colab\"/></a>"
      ]
    },
    {
      "cell_type": "code",
      "execution_count": null,
      "metadata": {
        "colab": {
          "base_uri": "https://localhost:8080/",
          "height": 582
        },
        "id": "IeJMePMoVA8s",
        "outputId": "5263f4d8-ac52-48dc-f9e6-f4fb1bce1849"
      },
      "outputs": [
        {
          "output_type": "stream",
          "name": "stdout",
          "text": [
            "📊 Box Plot & Outlier Detection Program\n",
            "Enter numbers separated by commas (e.g. 45,48,50,52,...): 23,45,12,11,27, 78,98,34,65\n",
            "\n",
            "--- Box Plot Statistics ---\n",
            "Q1 (25th percentile): 23.0\n",
            "Q2 (Median): 34.0\n",
            "Q3 (75th percentile): 65.0\n",
            "IQR: 42.0\n",
            "Lower Bound: -40.0\n",
            "Upper Bound: 128.0\n",
            "Outliers: No outliers detected\n"
          ]
        },
        {
          "output_type": "display_data",
          "data": {
            "text/plain": [
              "<Figure size 600x400 with 1 Axes>"
            ],
            "image/png": "[encoded data removed]"
          },
          "metadata": {}
        }
      ],
      "source": [
        "import matplotlib.pyplot as plt\n",
        "import seaborn as sns\n",
        "import numpy as np\n",
        "\n",
        "print(\"📊 Box Plot & Outlier Detection Program\")\n",
        "\n",
        "# Step 1: Take user input\n",
        "scores_input = input(\"Enter numbers separated by commas (e.g. 45,48,50,52,...): \")\n",
        "scores = [float(x.strip()) for x in scores_input.split(\",\") if x.strip()]\n",
        "\n",
        "# Step 2: Calculate statistics\n",
        "Q1 = np.percentile(scores, 25)\n",
        "Q2 = np.median(scores)\n",
        "Q3 = np.percentile(scores, 75)\n",
        "IQR = Q3 - Q1\n",
        "lower_bound = Q1 - 1.5 * IQR\n",
        "upper_bound = Q3 + 1.5 * IQR\n",
        "\n",
        "outliers = [x for x in scores if x < lower_bound or x > upper_bound]\n",
        "\n",
        "# Step 3: Print results\n",
        "print(\"\\n--- Box Plot Statistics ---\")\n",
        "print(\"Q1 (25th percentile):\", Q1)\n",
        "print(\"Q2 (Median):\", Q2)\n",
        "print(\"Q3 (75th percentile):\", Q3)\n",
        "print(\"IQR:\", IQR)\n",
        "print(\"Lower Bound:\", lower_bound)\n",
        "print(\"Upper Bound:\", upper_bound)\n",
        "print(\"Outliers:\", outliers if outliers else \"No outliers detected\")\n",
        "\n",
        "# Step 4: Plot boxplot\n",
        "plt.figure(figsize=(6, 4))\n",
        "sns.boxplot(x=scores)\n",
        "plt.title(\"Box Plot of User Data\")\n",
        "plt.show()\n"
      ]
    }
  ]
}